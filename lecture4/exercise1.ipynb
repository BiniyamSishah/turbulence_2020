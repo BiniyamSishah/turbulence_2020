{
 "cells": [
  {
   "cell_type": "markdown",
   "metadata": {},
   "source": [
    "# Turbulence estimates - Quick and dirty computation"
   ]
  },
  {
   "cell_type": "code",
   "execution_count": null,
   "metadata": {},
   "outputs": [],
   "source": []
  },
  {
   "cell_type": "code",
   "execution_count": 147,
   "metadata": {},
   "outputs": [],
   "source": [
    "%matplotlib inline"
   ]
  },
  {
   "cell_type": "code",
   "execution_count": null,
   "metadata": {},
   "outputs": [],
   "source": []
  },
  {
   "cell_type": "code",
   "execution_count": 148,
   "metadata": {},
   "outputs": [],
   "source": [
    "from matplotlib import pyplot as plt\n",
    "import numpy as np"
   ]
  },
  {
   "cell_type": "code",
   "execution_count": null,
   "metadata": {},
   "outputs": [],
   "source": []
  },
  {
   "cell_type": "code",
   "execution_count": 149,
   "metadata": {},
   "outputs": [],
   "source": [
    "#Input values\n",
    "density = 1.225\n",
    "mu = 0.00018\n",
    "nu=mu/density\n",
    "U = 80\n",
    "L = 1\n"
   ]
  },
  {
   "cell_type": "code",
   "execution_count": null,
   "metadata": {},
   "outputs": [],
   "source": []
  },
  {
   "cell_type": "code",
   "execution_count": 150,
   "metadata": {},
   "outputs": [
    {
     "name": "stdout",
     "output_type": "stream",
     "text": [
      "System Reynolds number =  544444.4444444444\n"
     ]
    }
   ],
   "source": [
    "#Compute Reynolds number\n",
    "Re_char = U*L/nu\n",
    "\n",
    "print(\"System Reynolds number = \",Re_char)\n"
   ]
  },
  {
   "cell_type": "code",
   "execution_count": null,
   "metadata": {},
   "outputs": [],
   "source": []
  },
  {
   "cell_type": "code",
   "execution_count": 151,
   "metadata": {},
   "outputs": [
    {
     "name": "stdout",
     "output_type": "stream",
     "text": [
      "Reynolds number x =  544444.4444444444\n",
      "Boundary layer thickness (m) =  0.024938902092607802\n",
      "Integral length scale (m) =  0.009975560837043122\n"
     ]
    }
   ],
   "source": [
    "#Integral eddy lenght scale\n",
    "\n",
    "#Flat plate correlation\n",
    "#x=1\n",
    "x=L\n",
    "Re_x = U*x/nu\n",
    "blt = (0.35*x)/((Re_x)**(1/5))\n",
    "l = 0.4*blt\n",
    "\n",
    "#Pipe correlation\n",
    "#l = 0.07*L\n",
    "\n",
    "\n",
    "print(\"Reynolds number x = \",Re_x)\n",
    "print(\"Boundary layer thickness (m) = \",blt)\n",
    "print(\"Integral length scale (m) = \",l)\n"
   ]
  },
  {
   "cell_type": "code",
   "execution_count": null,
   "metadata": {},
   "outputs": [],
   "source": []
  },
  {
   "cell_type": "code",
   "execution_count": 152,
   "metadata": {},
   "outputs": [
    {
     "name": "stdout",
     "output_type": "stream",
     "text": [
      "Turbulence intensity =  0.01\n"
     ]
    }
   ],
   "source": [
    "#Turbulent intensity\n",
    "\n",
    "#Turbulence intensity percentage\n",
    "IP = 1\n",
    "I = IP/100\n",
    "\n",
    "#Pipe correlation\n",
    "#I = 0.16*Re_char**(-1./8.)\n",
    "\n",
    "print(\"Turbulence intensity = \",I)\n"
   ]
  },
  {
   "cell_type": "code",
   "execution_count": null,
   "metadata": {},
   "outputs": [],
   "source": []
  },
  {
   "cell_type": "code",
   "execution_count": 153,
   "metadata": {},
   "outputs": [
    {
     "name": "stdout",
     "output_type": "stream",
     "text": [
      "Turbulent kinetic energy per unit mass (m^2/S^2) =  0.9600000000000002\n"
     ]
    }
   ],
   "source": [
    "#Turbulent kinetic energy\n",
    "\n",
    "k = (3/2)*(U*I)**2\n",
    "\n",
    "#Correct with U_tur\n",
    "#u_tur = (5./4.)*U\n",
    "#k = (3/2)*(u_tur*I)**2\n",
    "\n",
    "\n",
    "print(\"Turbulent kinetic energy per unit mass (m^2/S^2) = \",k)\n"
   ]
  },
  {
   "cell_type": "code",
   "execution_count": null,
   "metadata": {},
   "outputs": [],
   "source": []
  },
  {
   "cell_type": "code",
   "execution_count": 154,
   "metadata": {},
   "outputs": [
    {
     "name": "stdout",
     "output_type": "stream",
     "text": [
      "Energy dissipation rate per unit mass (m^2/S^3) =  8.486176055007574\n"
     ]
    }
   ],
   "source": [
    "#Energy dissipation\n",
    "\n",
    "e = (0.09*k**(3/2))/(l)\n",
    "#e = k**(3/2)/l\n",
    "\n",
    "print(\"Energy dissipation rate per unit mass (m^2/S^3) = \",e)\n"
   ]
  },
  {
   "cell_type": "code",
   "execution_count": null,
   "metadata": {},
   "outputs": [],
   "source": []
  },
  {
   "cell_type": "code",
   "execution_count": 155,
   "metadata": {},
   "outputs": [
    {
     "name": "stdout",
     "output_type": "stream",
     "text": [
      "Specific dissipation rate per unit mass (1/S) =  98.21963026629135\n"
     ]
    }
   ],
   "source": [
    "#Compute specific dissipation rate from epsilon\n",
    "\n",
    "omega = e/(0.09*k)\n",
    "\n",
    "print(\"Specific dissipation rate per unit mass (1/S) = \",omega)\n"
   ]
  },
  {
   "cell_type": "code",
   "execution_count": null,
   "metadata": {},
   "outputs": [],
   "source": []
  },
  {
   "cell_type": "code",
   "execution_count": 156,
   "metadata": {},
   "outputs": [
    {
     "name": "stdout",
     "output_type": "stream",
     "text": [
      "Maximum Integral scale l0 (m) =  0.11083956485603469\n",
      "Maximum Integral scale t0 (s) =  0.11312515717058658\n",
      "Maximum Integral scale u0 (m/s) =  0.9797958971132713\n",
      "\n",
      "Average Integral scale l0 (m) =  0.009975560837043122\n",
      "Average Integral scale t0 (s) =  0.010181264145352791\n",
      "Average Integral scale u0 (m/s) =  0.9797958971132713\n"
     ]
    }
   ],
   "source": [
    "#Turbulent Reynolds number\n",
    "\n",
    "#Recompute largest eddy \n",
    "l0_max = (k**(3/2))/e        #ok if you think in terms of largest eddy - Taylor\n",
    "l0_ave = 0.09*(k**(3/2))/e   #ok if you think in terms of average integral eddies same as l - Wilcox corrected\n",
    "\n",
    "\n",
    "#Turnover time\n",
    "t0_max = l0_max/(k**(1/2))\n",
    "t0_ave = l0_ave/(k**(1/2))\n",
    "#t0 = 0.09*k/e\n",
    "\n",
    "\n",
    "#Velocity of l0\n",
    "u0_max = l0_max/t0_max\n",
    "u0_ave = l0_ave/t0_ave\n",
    "#u0_max = k**(1/2)\n",
    "#u0_max = ((2/3)*k)**(1/2)\n",
    "\n",
    "\n",
    "print(\"Maximum Integral scale l0 (m) = \",l0_max)\n",
    "print(\"Maximum Integral scale t0 (s) = \",t0_max)\n",
    "print(\"Maximum Integral scale u0 (m/s) = \",u0_max)\n",
    "print()\n",
    "print(\"Average Integral scale l0 (m) = \",l0_ave)\n",
    "print(\"Average Integral scale t0 (s) = \",t0_ave)\n",
    "print(\"Average Integral scale u0 (m/s) = \",u0_ave)\n"
   ]
  },
  {
   "cell_type": "code",
   "execution_count": null,
   "metadata": {},
   "outputs": [],
   "source": []
  },
  {
   "cell_type": "code",
   "execution_count": 157,
   "metadata": {},
   "outputs": [
    {
     "name": "stdout",
     "output_type": "stream",
     "text": [
      "Reynolds turbulent l_ave =  66.51759241630491\n",
      "Reynolds turbulent l_max =  739.0843601811657\n",
      "Reynolds turbulent (k^2/e*nu) =  739.0843601811657\n"
     ]
    }
   ],
   "source": [
    "#Turbulent Reynolds\n",
    "\n",
    "Re_lave = ((k**(0.5))*l0_ave)/nu\n",
    "Re_lmax = ((k**(0.5))*l0_max)/nu\n",
    "Re_T3 = (k**2)/(e*nu)\n",
    "\n",
    "print(\"Reynolds turbulent l_ave = \",Re_lave)\n",
    "print(\"Reynolds turbulent l_max = \",Re_lmax)\n",
    "print(\"Reynolds turbulent (k^2/e*nu) = \",Re_T3)   #Equivalent to Re l_max\n"
   ]
  },
  {
   "cell_type": "code",
   "execution_count": null,
   "metadata": {},
   "outputs": [],
   "source": []
  },
  {
   "cell_type": "code",
   "execution_count": 158,
   "metadata": {},
   "outputs": [
    {
     "name": "stdout",
     "output_type": "stream",
     "text": [
      "Kolmogorov length scale (m) =  0.0007819415718025135\n",
      "Kolmogorov time scale (s) =  0.004161138675546706\n",
      "Kolmogorov velocity scale(m/s) =  0.18791528780275008\n",
      "Kolmogorov Reynolds number =  1.0\n"
     ]
    }
   ],
   "source": [
    "#Kolmogorov scales\n",
    "\n",
    "kolmogorov_length = ((nu**3)/e)**(1/4)\n",
    "kolmogorov_time = (nu/e)**(1/2)\n",
    "kolmogorov_velocity = (nu*e)**(1/4)\n",
    "kolmogorov_reynolds = (kolmogorov_length*kolmogorov_velocity)/nu\n",
    "\n",
    "print(\"Kolmogorov length scale (m) = \",kolmogorov_length)\n",
    "print(\"Kolmogorov time scale (s) = \",kolmogorov_time)\n",
    "print(\"Kolmogorov velocity scale(m/s) = \",kolmogorov_velocity)\n",
    "print(\"Kolmogorov Reynolds number = \",kolmogorov_reynolds)\n"
   ]
  },
  {
   "cell_type": "code",
   "execution_count": null,
   "metadata": {},
   "outputs": [],
   "source": []
  },
  {
   "cell_type": "code",
   "execution_count": 159,
   "metadata": {},
   "outputs": [
    {
     "name": "stdout",
     "output_type": "stream",
     "text": [
      "l0_to_kolmogorov =  141.74916496705745\n",
      "t0_to_kolmogorov =  27.186106013571816\n",
      "u0_to_kolmogorov =  5.214029728873035\n"
     ]
    }
   ],
   "source": [
    "#Ratios of scales\n",
    "\n",
    "#l0_to_kolmogorov = Re_lave**(3/4)\n",
    "#t0_to_kolmogorov = Re_lave**(1/2)\n",
    "#u0_to_kolmogorov = Re_lave**(1/4)\n",
    "\n",
    "l0_to_kolmogorov = Re_T3**(3/4)\n",
    "t0_to_kolmogorov = Re_T3**(1/2)\n",
    "u0_to_kolmogorov = Re_T3**(1/4)\n",
    "\n",
    "print(\"l0_to_kolmogorov = \",l0_to_kolmogorov)\n",
    "print(\"t0_to_kolmogorov = \",t0_to_kolmogorov)\n",
    "print(\"u0_to_kolmogorov = \",u0_to_kolmogorov)\n"
   ]
  },
  {
   "cell_type": "code",
   "execution_count": null,
   "metadata": {},
   "outputs": [],
   "source": []
  },
  {
   "cell_type": "code",
   "execution_count": 160,
   "metadata": {},
   "outputs": [
    {
     "name": "stdout",
     "output_type": "stream",
     "text": [
      "cf =  0.004132732346775008\n",
      "tau =  16.200310799358032\n",
      "u_tau =  3.636584044083132\n",
      "y1 =  4.040571418919339e-05\n",
      "y7 =  0.0002828399993243537\n",
      "y10 =  0.0004040571418919339\n",
      "y30 =  0.0012121714256758016\n",
      "y100 =  0.004040571418919339\n",
      "Kolmogorov length scale (m) =  0.0007819415718025135\n"
     ]
    }
   ],
   "source": [
    "#Targe yplus values\n",
    "yplus1 = 1\n",
    "yplus7 = 7\n",
    "yplus10 = 10\n",
    "yplus30 = 30\n",
    "yplus100 = 100\n",
    "\n",
    "#Compute friction coefficient using correlations for flat plate\n",
    "cf = 0.058*Re_char**(-0.2)\n",
    "tau = 0.5*cf*density*U**2\n",
    "u_tau = (tau/density)**0.5\n",
    "\n",
    "#Viscous sublayer height\n",
    "y1 = (mu*yplus1)/(density*u_tau)\n",
    "y7 = (mu*yplus7)/(density*u_tau)\n",
    "y10 = (mu*yplus10)/(density*u_tau)\n",
    "y30 = (mu*yplus30)/(density*u_tau)\n",
    "y100 = (mu*yplus100)/(density*u_tau)\n",
    "\n",
    "\n",
    "print(\"cf = \",cf)\n",
    "print(\"tau = \",tau)\n",
    "print(\"u_tau = \",u_tau)\n",
    "print(\"y1 = \",y1)\n",
    "print(\"y7 = \",y7)\n",
    "print(\"y10 = \",y10)\n",
    "print(\"y30 = \",y30)\n",
    "print(\"y100 = \",y100)\n",
    "print(\"Kolmogorov length scale (m) = \",kolmogorov_length)\n"
   ]
  },
  {
   "cell_type": "code",
   "execution_count": null,
   "metadata": {},
   "outputs": [],
   "source": []
  },
  {
   "cell_type": "markdown",
   "metadata": {},
   "source": [
    "## We are missing $\\mu_t$, can you get an estimate?"
   ]
  },
  {
   "cell_type": "code",
   "execution_count": null,
   "metadata": {},
   "outputs": [],
   "source": []
  },
  {
   "cell_type": "code",
   "execution_count": null,
   "metadata": {},
   "outputs": [],
   "source": []
  },
  {
   "cell_type": "code",
   "execution_count": null,
   "metadata": {},
   "outputs": [],
   "source": []
  },
  {
   "cell_type": "code",
   "execution_count": null,
   "metadata": {},
   "outputs": [],
   "source": []
  },
  {
   "cell_type": "code",
   "execution_count": null,
   "metadata": {},
   "outputs": [],
   "source": []
  },
  {
   "cell_type": "code",
   "execution_count": 162,
   "metadata": {},
   "outputs": [
    {
     "name": "stdout",
     "output_type": "stream",
     "text": [
      "System Reynolds number =  5104.166666666666\n",
      "Integral length scale (m) =  0.06390096504226939\n",
      "Turbulence intensity =  0.05\n",
      "Turbulent kinetic energy per unit mass (m^2/S^2) =  0.09375\n",
      "Energy dissipation rate per unit mass (m^2/S^3) V1 =  0.4492100847655827\n",
      "Energy dissipation rate per unit mass (m^2/S^3) V2 =  0.538330078125\n",
      "Turbulent viscosity(kg/m.S) =  0.0017609035322810847\n",
      "Specific dissipation rate per unit mass (1/S) =  53.23971374999499\n"
     ]
    }
   ],
   "source": [
    "#Fluent - Mixing tee case\n",
    "\n",
    "density = 1.225\n",
    "mu = 0.00018\n",
    "nu=mu/density\n",
    "U = 5\n",
    "L = 0.15\n",
    "\n",
    "#Compute reynolds\n",
    "Re_char = U*L/nu\n",
    "print(\"System Reynolds number = \",Re_char)\n",
    "\n",
    "#Pipe correlation\n",
    "l = 0.07*L/(0.09**(3/4))\n",
    "\n",
    "#Turbulence intensity percentage\n",
    "IP = 5\n",
    "I = IP/100\n",
    "\n",
    "I1 = 0.16*Re_char**(-1./8.)\n",
    "\n",
    "#Eddy viscosity ratio\n",
    "mur = 10\n",
    "\n",
    "#Turbulent kinetic energy\n",
    "k = (3/2)*(U*I)**2\n",
    "\n",
    "#Energy dissipation\n",
    "e1 = (k**(3/2))/(l)\n",
    "e2 = density*0.09*((k**2)/mu)*mur**(-1)\n",
    "\n",
    "#Turbulent viscosity\n",
    "mut = 0.09*((3/2)**0.5)*U*I*l\n",
    "\n",
    "#\"Specific dissipation rate per unit mass\n",
    "#omega = e/(0.09*k)\n",
    "omega = (k**0.5)/(0.09*l)\n",
    "\n",
    "\n",
    "print(\"Integral length scale (m) = \",l)\n",
    "print(\"Turbulence intensity = \",I)\n",
    "print(\"Turbulent kinetic energy per unit mass (m^2/S^2) = \",k)\n",
    "print(\"Energy dissipation rate per unit mass (m^2/S^3) V1 = \",e1)\n",
    "print(\"Energy dissipation rate per unit mass (m^2/S^3) V2 = \",e2)\n",
    "print(\"Turbulent viscosity(kg/m.S) = \",mut)\n",
    "print(\"Specific dissipation rate per unit mass (1/S) = \",omega)\n"
   ]
  },
  {
   "cell_type": "code",
   "execution_count": null,
   "metadata": {},
   "outputs": [],
   "source": []
  },
  {
   "cell_type": "code",
   "execution_count": null,
   "metadata": {},
   "outputs": [],
   "source": []
  }
 ],
 "metadata": {
  "kernelspec": {
   "display_name": "Python 3",
   "language": "python",
   "name": "python3"
  },
  "language_info": {
   "codemirror_mode": {
    "name": "ipython",
    "version": 3
   },
   "file_extension": ".py",
   "mimetype": "text/x-python",
   "name": "python",
   "nbconvert_exporter": "python",
   "pygments_lexer": "ipython3",
   "version": "3.7.0"
  }
 },
 "nbformat": 4,
 "nbformat_minor": 1
}
