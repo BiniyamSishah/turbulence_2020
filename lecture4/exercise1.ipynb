{
 "cells": [
  {
   "cell_type": "markdown",
   "metadata": {},
   "source": [
    "# Turbulence estimates - Quick and dirty computation"
   ]
  },
  {
   "cell_type": "code",
   "execution_count": null,
   "metadata": {},
   "outputs": [],
   "source": []
  },
  {
   "cell_type": "code",
   "execution_count": 54,
   "metadata": {},
   "outputs": [],
   "source": [
    "%matplotlib inline"
   ]
  },
  {
   "cell_type": "code",
   "execution_count": null,
   "metadata": {},
   "outputs": [],
   "source": []
  },
  {
   "cell_type": "code",
   "execution_count": 55,
   "metadata": {},
   "outputs": [],
   "source": [
    "from matplotlib import pyplot as plt\n",
    "import numpy as np"
   ]
  },
  {
   "cell_type": "code",
   "execution_count": null,
   "metadata": {},
   "outputs": [],
   "source": []
  },
  {
   "cell_type": "code",
   "execution_count": 56,
   "metadata": {},
   "outputs": [],
   "source": [
    "#Input values\n",
    "density = 1.225\n",
    "mu = 0.00018\n",
    "nu=mu/density\n",
    "U = 80\n",
    "L = 1"
   ]
  },
  {
   "cell_type": "code",
   "execution_count": null,
   "metadata": {},
   "outputs": [],
   "source": []
  },
  {
   "cell_type": "code",
   "execution_count": 57,
   "metadata": {},
   "outputs": [
    {
     "name": "stdout",
     "output_type": "stream",
     "text": [
      "System Reynolds number =  544444.4444444444\n"
     ]
    }
   ],
   "source": [
    "#Compute Reynolds number\n",
    "Re_char = U*L/nu\n",
    "\n",
    "print(\"System Reynolds number = \",Re_char)"
   ]
  },
  {
   "cell_type": "code",
   "execution_count": null,
   "metadata": {},
   "outputs": [],
   "source": []
  },
  {
   "cell_type": "code",
   "execution_count": 58,
   "metadata": {},
   "outputs": [
    {
     "name": "stdout",
     "output_type": "stream",
     "text": [
      "Reynolds number x =  544444.4444444444\n",
      "Boundary layer thickness (m) =  0.024938902092607802\n",
      "Integral length scale (m) =  0.009975560837043122\n"
     ]
    }
   ],
   "source": [
    "#Integral eddy lenght scale\n",
    "\n",
    "#Flat plate correlation\n",
    "#x=1\n",
    "x=L\n",
    "Re_x = U*x/nu\n",
    "blt = (0.35*x)/((Re_x)**(1/5))\n",
    "l = 0.4*blt\n",
    "\n",
    "#Pipe correlation\n",
    "#l = 0.07*L\n",
    "\n",
    "print(\"Reynolds number x = \",Re_x)\n",
    "print(\"Boundary layer thickness (m) = \",blt)\n",
    "print(\"Integral length scale (m) = \",l)"
   ]
  },
  {
   "cell_type": "code",
   "execution_count": null,
   "metadata": {},
   "outputs": [],
   "source": []
  },
  {
   "cell_type": "code",
   "execution_count": 59,
   "metadata": {},
   "outputs": [
    {
     "name": "stdout",
     "output_type": "stream",
     "text": [
      "Turbulence intensity =  0.02\n"
     ]
    }
   ],
   "source": [
    "#Turbulent intensity\n",
    "\n",
    "#Tunbulence intensity percentage\n",
    "IP = 2\n",
    "I = IP/100\n",
    "\n",
    "#Pipe correlation\n",
    "#I = 0.16*Re_char**(-1./8.)\n",
    "\n",
    "print(\"Turbulence intensity = \",I)"
   ]
  },
  {
   "cell_type": "code",
   "execution_count": null,
   "metadata": {},
   "outputs": [],
   "source": []
  },
  {
   "cell_type": "code",
   "execution_count": 60,
   "metadata": {},
   "outputs": [
    {
     "name": "stdout",
     "output_type": "stream",
     "text": [
      "Turbulent kinetic energy per unit mass (m^2/S^2) =  3.8400000000000007\n"
     ]
    }
   ],
   "source": [
    "#Turbulent kinetic energy\n",
    "\n",
    "k = (3/2)*(U*I)**2\n",
    "\n",
    "#Correct with U_tur\n",
    "#u_tur = (5./4.)*U\n",
    "#k = (3/2)*(u_tur*I)**2\n",
    "\n",
    "\n",
    "print(\"Turbulent kinetic energy per unit mass (m^2/S^2) = \",k)"
   ]
  },
  {
   "cell_type": "code",
   "execution_count": null,
   "metadata": {},
   "outputs": [],
   "source": []
  },
  {
   "cell_type": "code",
   "execution_count": 61,
   "metadata": {},
   "outputs": [
    {
     "name": "stdout",
     "output_type": "stream",
     "text": [
      "Energy dissipation rate per unit mass (m^2/S^3) =  67.88940844006059\n"
     ]
    }
   ],
   "source": [
    "#Energy dissipation\n",
    "\n",
    "e = 0.09*(k**(3/2))/l\n",
    "\n",
    "print(\"Energy dissipation rate per unit mass (m^2/S^3) = \",e)"
   ]
  },
  {
   "cell_type": "code",
   "execution_count": null,
   "metadata": {},
   "outputs": [],
   "source": []
  },
  {
   "cell_type": "code",
   "execution_count": 67,
   "metadata": {},
   "outputs": [
    {
     "name": "stdout",
     "output_type": "stream",
     "text": [
      "Maximum Integral scale l0 (m) =  0.11083956485603469\n",
      "Maximum Integral scale t0 (s) =  0.05656257858529329\n",
      "Maximum Integral scale u0 (m/s) =  1.9595917942265426\n",
      "\n",
      "Average Integral scale l0 (m) =  0.009975560837043122\n",
      "Average Integral scale t0 (s) =  0.005090632072676396\n",
      "Average Integral scale u0 (m/s) =  1.9595917942265426\n"
     ]
    }
   ],
   "source": [
    "#Turbulent Reynolds number\n",
    "\n",
    "#Recompute largest eddy \n",
    "l0_max = (k**(3/2))/e        #ok if you think in terms of largest eddy\n",
    "l0_ave = 0.09*(k**(3/2))/e   #ok if you think in terms of average integral eddies same as l\n",
    "\n",
    "\n",
    "#Turnover time\n",
    "t0_max = l0_max/(k**(1/2))\n",
    "t0_ave = l0_ave/(k**(1/2))\n",
    "#t0 = 0.09*k/e\n",
    "\n",
    "#Velocity of l0\n",
    "u0_max = l0_max/t0_max\n",
    "u0_ave = l0_ave/t0_ave\n",
    "#u0_max = k**(1/2)\n",
    "#u0_max = ((2/3)*k)**(1/2)\n",
    "\n",
    "\n",
    "print(\"Maximum Integral scale l0 (m) = \",l0_max)\n",
    "print(\"Maximum Integral scale t0 (s) = \",t0_max)\n",
    "print(\"Maximum Integral scale u0 (m/s) = \",u0_max)\n",
    "print()\n",
    "print(\"Average Integral scale l0 (m) = \",l0_ave)\n",
    "print(\"Average Integral scale t0 (s) = \",t0_ave)\n",
    "print(\"Average Integral scale u0 (m/s) = \",u0_ave)\n"
   ]
  },
  {
   "cell_type": "code",
   "execution_count": null,
   "metadata": {},
   "outputs": [],
   "source": []
  },
  {
   "cell_type": "code",
   "execution_count": 68,
   "metadata": {},
   "outputs": [
    {
     "name": "stdout",
     "output_type": "stream",
     "text": [
      "Reynolds turbulent l_ave =  133.03518483260981\n",
      "Reynolds turbulent l_max =  1478.1687203623314\n",
      "Reynolds turbulent (k^2/e*nu) =  1478.1687203623314\n"
     ]
    }
   ],
   "source": [
    "#Turbulent Reynolds\n",
    "\n",
    "Re_lave = ((k**(0.5))*l0_ave)/nu\n",
    "Re_lmax = ((k**(0.5))*l0_max)/nu\n",
    "Re_T3 = (k**2)/(e*nu)\n",
    "\n",
    "print(\"Reynolds turbulent l_ave = \",Re_lave)\n",
    "print(\"Reynolds turbulent l_max = \",Re_lmax)\n",
    "print(\"Reynolds turbulent (k^2/e*nu) = \",Re_T3)   #Equivalent to Re l_max"
   ]
  },
  {
   "cell_type": "code",
   "execution_count": null,
   "metadata": {},
   "outputs": [],
   "source": []
  },
  {
   "cell_type": "code",
   "execution_count": 64,
   "metadata": {},
   "outputs": [
    {
     "name": "stdout",
     "output_type": "stream",
     "text": [
      "Kolmogorov length scale (m) =  0.0004649452403519801\n",
      "Kolmogorov time scale (s) =  0.0014711846874683426\n",
      "Kolmogorov velocity scale(m/s) =  0.3160345837694052\n",
      "Kolmogorov Reynolds number =  1.0\n"
     ]
    }
   ],
   "source": [
    "#Kolmogorov scales\n",
    "\n",
    "kolmogorov_length = ((nu**3)/e)**(1/4)\n",
    "kolmogorov_time = (nu/e)**(1/2)\n",
    "kolmogorov_velocity = (nu*e)**(1/4)\n",
    "kolmogorov_reynolds = (kolmogorov_length*kolmogorov_velocity)/nu\n",
    "\n",
    "print(\"Kolmogorov length scale (m) = \",kolmogorov_length)\n",
    "print(\"Kolmogorov time scale (s) = \",kolmogorov_time)\n",
    "print(\"Kolmogorov velocity scale(m/s) = \",kolmogorov_velocity)\n",
    "print(\"Kolmogorov Reynolds number = \",kolmogorov_reynolds)"
   ]
  },
  {
   "cell_type": "code",
   "execution_count": null,
   "metadata": {},
   "outputs": [],
   "source": []
  },
  {
   "cell_type": "code",
   "execution_count": 65,
   "metadata": {},
   "outputs": [
    {
     "name": "stdout",
     "output_type": "stream",
     "text": [
      "l0_to_kolmogorov =  238.39272937201207\n",
      "t0_to_kolmogorov =  38.446959832506025\n",
      "u0_to_kolmogorov =  6.200561251411522\n"
     ]
    }
   ],
   "source": [
    "#Ratios of scales\n",
    "\n",
    "#l0_to_kolmogorov = Re_lave**(3/4)\n",
    "#t0_to_kolmogorov = Re_lave**(1/2)\n",
    "#u0_to_kolmogorov = Re_lave**(1/4)\n",
    "\n",
    "l0_to_kolmogorov = Re_T3**(3/4)\n",
    "t0_to_kolmogorov = Re_T3**(1/2)\n",
    "u0_to_kolmogorov = Re_T3**(1/4)\n",
    "\n",
    "print(\"l0_to_kolmogorov = \",l0_to_kolmogorov)\n",
    "print(\"t0_to_kolmogorov = \",t0_to_kolmogorov)\n",
    "print(\"u0_to_kolmogorov = \",u0_to_kolmogorov)"
   ]
  },
  {
   "cell_type": "code",
   "execution_count": null,
   "metadata": {},
   "outputs": [],
   "source": []
  },
  {
   "cell_type": "code",
   "execution_count": 66,
   "metadata": {},
   "outputs": [
    {
     "name": "stdout",
     "output_type": "stream",
     "text": [
      "cf =  0.004132732346775008\n",
      "tau =  16.200310799358032\n",
      "u_tau =  3.636584044083132\n",
      "y1 =  4.040571418919339e-05\n",
      "y7 =  0.0002828399993243537\n",
      "y10 =  0.0004040571418919339\n",
      "y30 =  0.0012121714256758016\n",
      "y100 =  0.004040571418919339\n",
      "Kolmogorov length scale (m) =  0.0004649452403519801\n"
     ]
    }
   ],
   "source": [
    "#Re_char\n",
    "yplus1 = 1\n",
    "yplus7 = 7\n",
    "yplus10 = 10\n",
    "yplus30 = 30\n",
    "yplus100 = 100\n",
    "\n",
    "cf = 0.058*Re_char**(-0.2)\n",
    "tau = 0.5*cf*density*U**2\n",
    "u_tau = (tau/density)**0.5\n",
    "\n",
    "y1 = (mu*yplus1)/(density*u_tau)\n",
    "y7 = (mu*yplus7)/(density*u_tau)\n",
    "y10 = (mu*yplus10)/(density*u_tau)\n",
    "y30 = (mu*yplus30)/(density*u_tau)\n",
    "y100 = (mu*yplus100)/(density*u_tau)\n",
    "\n",
    "print(\"cf = \",cf)\n",
    "print(\"tau = \",tau)\n",
    "print(\"u_tau = \",u_tau)\n",
    "print(\"y1 = \",y1)\n",
    "print(\"y7 = \",y7)\n",
    "print(\"y10 = \",y10)\n",
    "print(\"y30 = \",y30)\n",
    "print(\"y100 = \",y100)\n",
    "print(\"Kolmogorov length scale (m) = \",kolmogorov_length)"
   ]
  },
  {
   "cell_type": "code",
   "execution_count": null,
   "metadata": {},
   "outputs": [],
   "source": []
  },
  {
   "cell_type": "markdown",
   "metadata": {},
   "source": [
    "## We are missing $\\mu_t$, can you get an estimate?"
   ]
  },
  {
   "cell_type": "code",
   "execution_count": null,
   "metadata": {},
   "outputs": [],
   "source": []
  },
  {
   "cell_type": "code",
   "execution_count": null,
   "metadata": {},
   "outputs": [],
   "source": []
  }
 ],
 "metadata": {
  "kernelspec": {
   "display_name": "Python 3",
   "language": "python",
   "name": "python3"
  },
  "language_info": {
   "codemirror_mode": {
    "name": "ipython",
    "version": 3
   },
   "file_extension": ".py",
   "mimetype": "text/x-python",
   "name": "python",
   "nbconvert_exporter": "python",
   "pygments_lexer": "ipython3",
   "version": "3.7.0"
  }
 },
 "nbformat": 4,
 "nbformat_minor": 1
}
